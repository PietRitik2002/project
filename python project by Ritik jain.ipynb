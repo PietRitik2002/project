{
 "cells": [
  {
   "cell_type": "code",
   "execution_count": 3,
   "id": "f1b7a2b3-e8f5-4d0e-a957-a01604bca1d9",
   "metadata": {},
   "outputs": [],
   "source": [
    "class StudentManagementSystem:\n",
    "    def __init__(self):\n",
    "        self.student = {}\n",
    "\n",
    "    def display_student(self):\n",
    "        print(\"Student List:\")\n",
    "        for student_id, student_info in self.student.items():\n",
    "            print(f\"ID: {student_id}, Name: {student_info['name']}, rollno: {student_info['rollno']} marks:{student_info['marks']} marks2:{student_info['marks2']}\")\n",
    "\n",
    "    def accept_student(self,student_id,name,rollno,marks,marks2):\n",
    "        self.student[student_id] = {'name':name,'rollno':rollno,'marks':marks,'marks2':marks2}\n",
    "        print(f\"Student {name} added successfully!\")\n",
    "\n",
    "    def search_student(self, student_id):\n",
    "        if student_id in self.student:\n",
    "            student_info = self.student[student_id]\n",
    "            print(f\"ID:{student_id}, Name: {student_info['name']}, rollno: {student_info['rollno']} marks:{student_info['marks']} marks2:{student_info['marks2']}\")\n",
    "\n",
    "        else:\n",
    "            print(\"Student not found.\")\n",
    "\n",
    "    def delete_student(self, student_id):\n",
    "        if student_id in self.student:\n",
    "            deleted_student = self.student.pop(student_id)\n",
    "            print(f\"Student {deleted_student['name']} deleted successfully!\")\n",
    "        else:\n",
    "            print(\"Student not found.\")\n",
    "             "
   ]
  },
  {
   "cell_type": "code",
   "execution_count": 4,
   "id": "5920bd0f-3116-455e-bfbd-6f12460c1822",
   "metadata": {},
   "outputs": [
    {
     "name": "stdout",
     "output_type": "stream",
     "text": [
      "Student raj added successfully!\n",
      "Student Ritik added successfully!\n",
      "Student Om added successfully!\n"
     ]
    }
   ],
   "source": [
    "# Create an instance of the StudentManagementSystem\n",
    "\n",
    "sms=StudentManagementSystem()\n",
    "# Accepting students\n",
    "sms.accept_student(1,\"raj\",45,89,79)\n",
    "sms.accept_student(2,\"Ritik\",22,67,79)\n",
    "sms.accept_student(3,\"Om\",21,56,78)\n"
   ]
  },
  {
   "cell_type": "code",
   "execution_count": 5,
   "id": "beb884d7-9cd7-44f0-af09-23b6ea8f9f76",
   "metadata": {},
   "outputs": [
    {
     "name": "stdout",
     "output_type": "stream",
     "text": [
      "Student List:\n",
      "ID: 1, Name: raj, rollno: 45 marks:89 marks2:79\n",
      "ID: 2, Name: Ritik, rollno: 22 marks:67 marks2:79\n",
      "ID: 3, Name: Om, rollno: 21 marks:56 marks2:78\n"
     ]
    }
   ],
   "source": [
    "# Displaying all students\n",
    "sms.display_student()\n"
   ]
  },
  {
   "cell_type": "code",
   "execution_count": 11,
   "id": "6037f5d4-281b-4f8c-9d8f-3e436a50a73f",
   "metadata": {},
   "outputs": [
    {
     "name": "stdout",
     "output_type": "stream",
     "text": [
      "ID:3, Name: Om, rollno: 21 marks:56 marks2:78\n"
     ]
    }
   ],
   "source": [
    "#Searching for a student\n",
    "sms.search_student(3)\n"
   ]
  },
  {
   "cell_type": "code",
   "execution_count": 7,
   "id": "bbeb1816-55a1-4f26-91ed-58dc11041a1b",
   "metadata": {},
   "outputs": [
    {
     "name": "stdout",
     "output_type": "stream",
     "text": [
      "Student raj deleted successfully!\n"
     ]
    }
   ],
   "source": [
    "# Deleting a student\n",
    "sms.delete_student(1)"
   ]
  },
  {
   "cell_type": "code",
   "execution_count": 8,
   "id": "2dff9b11-c332-4ad2-8726-6899d1b76526",
   "metadata": {},
   "outputs": [
    {
     "name": "stdout",
     "output_type": "stream",
     "text": [
      "Student List:\n",
      "ID: 2, Name: Ritik, rollno: 22 marks:67 marks2:79\n",
      "ID: 3, Name: Om, rollno: 21 marks:56 marks2:78\n"
     ]
    }
   ],
   "source": [
    "# Displaying updated student list\n",
    "sms.display_student()"
   ]
  },
  {
   "cell_type": "code",
   "execution_count": null,
   "id": "e847d2e2-7df6-4571-bdcb-254f4400a4f0",
   "metadata": {},
   "outputs": [],
   "source": []
  }
 ],
 "metadata": {
  "kernelspec": {
   "display_name": "Python 3 (ipykernel)",
   "language": "python",
   "name": "python3"
  },
  "language_info": {
   "codemirror_mode": {
    "name": "ipython",
    "version": 3
   },
   "file_extension": ".py",
   "mimetype": "text/x-python",
   "name": "python",
   "nbconvert_exporter": "python",
   "pygments_lexer": "ipython3",
   "version": "3.11.4"
  }
 },
 "nbformat": 4,
 "nbformat_minor": 5
}
